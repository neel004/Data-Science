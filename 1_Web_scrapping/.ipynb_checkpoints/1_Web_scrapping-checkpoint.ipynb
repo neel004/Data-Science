{
 "cells": [
  {
   "cell_type": "code",
   "execution_count": null,
   "id": "bc9449c8",
   "metadata": {},
   "outputs": [],
   "source": [
    "pip install selenium"
   ]
  },
  {
   "cell_type": "code",
   "execution_count": null,
   "id": "0f5faf31",
   "metadata": {},
   "outputs": [],
   "source": [
    "pip install beautifulsoup4"
   ]
  },
  {
   "cell_type": "code",
   "execution_count": null,
   "id": "34bb6348",
   "metadata": {},
   "outputs": [],
   "source": [
    "from selenium import webdriver\n",
    "from bs4 import BeautifulSoup\n",
    "import pandas as pd\n",
    "driver = webdriver.Chrome(\"C:/Users/neelp/Downloads/chromedriver\")\n",
    "products=[] #List to store name of the product\n",
    "prices=[] #List to store price of the product\n",
    "ratings=[] #List to store rating of the product\n",
    "spacification = [] \n",
    "driver.get(\"https://www.flipkart.com/laptops/~cs-umaioepjhw/pr?sid=6bo%2Cb5g&collection-tab-name=Gaming&wid=17.productCard.PMU_V2_10\")\n",
    "content = driver.page_source\n",
    "soup = BeautifulSoup(content)\n",
    "i=0\n",
    "\n",
    "# print(soup.findAll('div', attrs={'class':'_1AtVbE col-12-12'}))\n",
    "for a in soup.findAll('div', attrs={'class':'_1AtVbE col-12-12'}):\n",
    "    name=a.find('div', attrs={'class':'_4rR01T'})\n",
    "    price=a.find('div', attrs={'class':'_30jeq3 _1_WHN1'})\n",
    "    rating=a.find('div', attrs={'class':'_3LWZlK'})\n",
    "    spacifications = a.find('div',attrs={'class':'fMghEO'})\n",
    "    try:\n",
    "        products.append(name.text)\n",
    "        prices.append(price.text)\n",
    "        ratings.append(rating.text)\n",
    "        spacification.append(spacifications.text)\n",
    "#         print(name.text)\n",
    "#         print(price.text)\n",
    "#         print(rating.text)\n",
    "#         print(spacifications.text)\n",
    "        \n",
    "    except:\n",
    "        continue\n",
    "#     i+=1\n",
    "#     print(i)\n",
    "\n",
    "df = pd.DataFrame({'Product Name':products,'Price':prices,'Rating':ratings,'Spacifactions':spacification}) \n",
    "df.to_csv('products.csv', index=False, encoding='utf-8')\n",
    "# print(len(prices))\n",
    "# print(len(products))\n",
    "# print(len(ratings))\n",
    "# print(len(spacification))"
   ]
  }
 ],
 "metadata": {
  "kernelspec": {
   "display_name": "Python 3",
   "language": "python",
   "name": "python3"
  },
  "language_info": {
   "codemirror_mode": {
    "name": "ipython",
    "version": 3
   },
   "file_extension": ".py",
   "mimetype": "text/x-python",
   "name": "python",
   "nbconvert_exporter": "python",
   "pygments_lexer": "ipython3",
   "version": "3.8.8"
  }
 },
 "nbformat": 4,
 "nbformat_minor": 5
}
