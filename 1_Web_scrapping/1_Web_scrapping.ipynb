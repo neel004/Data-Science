{
 "cells": [
  {
   "cell_type": "code",
   "execution_count": null,
   "id": "cfb6711c",
   "metadata": {},
   "outputs": [],
   "source": [
    "pip install selenium"
   ]
  },
  {
   "cell_type": "code",
   "execution_count": null,
   "id": "c3ad7ad3",
   "metadata": {},
   "outputs": [],
   "source": [
    "pip install beautifulsoup4"
   ]
  },
  {
   "cell_type": "code",
   "execution_count": 1,
   "id": "34bb6348",
   "metadata": {},
   "outputs": [],
   "source": [
    "from selenium import webdriver\n",
    "from bs4 import BeautifulSoup\n",
    "import pandas as pd\n",
    "driver = webdriver.Chrome(\"C:/Users/neelp/Downloads/chromedriver\")\n",
    "products=[] #List to store name of the product\n",
    "prices=[] #List to store price of the product\n",
    "ratings=[] #List to store rating of the product\n",
    "spacification = [] #List to store spacifications of the product\n",
    "driver.get(\"https://www.flipkart.com/laptops/~cs-umaioepjhw/pr?sid=6bo%2Cb5g&collection-tab-name=Gaming&wid=17.productCard.PMU_V2_10\")\n",
    "content = driver.page_source\n",
    "soup = BeautifulSoup(content)\n",
    "for element in soup.findAll('div', attrs={'class':'_1AtVbE col-12-12'}):\n",
    "    name=element.find('div', attrs={'class':'_4rR01T'})\n",
    "    price=element.find('div', attrs={'class':'_30jeq3 _1_WHN1'})\n",
    "    rating=element.find('div', attrs={'class':'_3LWZlK'})\n",
    "    spacifications = element.find('div',attrs={'class':'fMghEO'})\n",
    "    try:\n",
    "        products.append(name.text)\n",
    "        prices.append(price.text)\n",
    "        ratings.append(rating.text)\n",
    "        spacification.append(spacifications.text)\n",
    "    except:\n",
    "        continue\n",
    "\n",
    "df = pd.DataFrame({'Product Name':products,'Price':prices,'Rating':ratings,'Spacifactions':spacification}) \n",
    "df.to_csv('products.csv', index=False, encoding='utf-8')\n"
   ]
  }
 ],
 "metadata": {
  "kernelspec": {
   "display_name": "Python 3",
   "language": "python",
   "name": "python3"
  },
  "language_info": {
   "codemirror_mode": {
    "name": "ipython",
    "version": 3
   },
   "file_extension": ".py",
   "mimetype": "text/x-python",
   "name": "python",
   "nbconvert_exporter": "python",
   "pygments_lexer": "ipython3",
   "version": "3.8.8"
  }
 },
 "nbformat": 4,
 "nbformat_minor": 5
}
